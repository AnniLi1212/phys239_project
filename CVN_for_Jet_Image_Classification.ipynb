{
 "cells": [
  {
   "cell_type": "code",
   "execution_count": 2,
   "id": "e9122053",
   "metadata": {
    "scrolled": true
   },
   "outputs": [],
   "source": [
    "import torch\n",
    "from sklearn.metrics import roc_curve, auc\n",
    "from sklearn.preprocessing import label_binarize\n",
    "import matplotlib.pyplot as plt\n",
    "import uproot\n",
    "import utils\n",
    "import yaml\n",
    "from tensorflow import keras\n",
    "import numpy as np\n",
    "import torch \n",
    "import torch.nn as nn\n",
    "import torch.optim as optim\n",
    "from torchvision import datasets, transforms\n",
    "import torch.nn.functional as F\n",
    "import numpy as np\n",
    "import torchvision\n",
    "import torchvision.models as models\n",
    "from torch.utils.data import Dataset, DataLoader\n",
    "from torch.utils.data import random_split\n",
    "import copy"
   ]
  },
  {
   "cell_type": "code",
   "execution_count": 3,
   "id": "d1872707",
   "metadata": {},
   "outputs": [],
   "source": [
    "torch.cuda.empty_cache()"
   ]
  },
  {
   "cell_type": "markdown",
   "id": "ccfd3a0d",
   "metadata": {},
   "source": [
    "### Preprocessing"
   ]
  },
  {
   "cell_type": "markdown",
   "id": "62283408",
   "metadata": {},
   "source": [
    "author @Javier Duarte <br>\n",
    "https://jduarte.physics.ucsd.edu/capstone-particle-physics-domain/weeks/05-jet-images.html"
   ]
  },
  {
   "cell_type": "code",
   "execution_count": 4,
   "id": "b9859743",
   "metadata": {},
   "outputs": [],
   "source": [
    "with open('definitions_image.yml') as file:\n",
    "    definitions = yaml.load(file, Loader=yaml.FullLoader)"
   ]
  },
  {
   "cell_type": "code",
   "execution_count": 5,
   "id": "923b398f",
   "metadata": {},
   "outputs": [],
   "source": [
    "features = definitions['features']\n",
    "spectators = definitions['spectators']\n",
    "labels = definitions['labels']\n",
    "\n",
    "nfeatures = definitions['nfeatures']\n",
    "nspectators = definitions['nspectators']\n",
    "nlabels = definitions['nlabels']"
   ]
  },
  {
   "cell_type": "code",
   "execution_count": 6,
   "id": "9c9aaf94",
   "metadata": {},
   "outputs": [],
   "source": [
    "# convert to torch\n",
    "def keras_to_torch(X, y):\n",
    "    X_torch = torch.tensor(X.transpose(0, 3, 1, 2), dtype=torch.float32)\n",
    "    y_torch = torch.tensor(y, dtype=torch.long)\n",
    "    return X_torch, y_torch"
   ]
  },
  {
   "cell_type": "code",
   "execution_count": 7,
   "id": "d2fb5ba7",
   "metadata": {
    "scrolled": true
   },
   "outputs": [],
   "source": [
    "#load training file\n",
    "feature_array, y, spec_array = utils.get_features_labels('root://eospublic.cern.ch//eos/opendata/cms/datascience/HiggsToBBNtupleProducerTool/HiggsToBBNTuple_HiggsToBB_QCD_RunII_13TeV_MC/train/ntuple_merged_10.root', \n",
    "                                                         features, \n",
    "                                                         spectators, \n",
    "                                                         labels, \n",
    "                                                         remove_mass_pt_window=False, \n",
    "                                                         entry_stop=20000)"
   ]
  },
  {
   "cell_type": "code",
   "execution_count": 8,
   "id": "a9606b9f",
   "metadata": {
    "scrolled": true
   },
   "outputs": [],
   "source": [
    "# convert the one-hot label to one column only. 0 for QCD and 1 for Higgs Boson\n",
    "y = y[:,1]"
   ]
  },
  {
   "cell_type": "code",
   "execution_count": 9,
   "id": "18505d7d",
   "metadata": {
    "scrolled": true
   },
   "outputs": [
    {
     "name": "stdout",
     "output_type": "stream",
     "text": [
      "The portion of background data in the training dataset is 0.8678893213200405\n"
     ]
    }
   ],
   "source": [
    "# see if the training set is unbalanced\n",
    "train_background = 0\n",
    "for temp in y:\n",
    "    if temp == 0:\n",
    "        train_background +=1\n",
    "print(f\"The portion of background data in the training dataset is {train_background / len(y)}\"  )"
   ]
  },
  {
   "cell_type": "code",
   "execution_count": 10,
   "id": "211c05b7",
   "metadata": {},
   "outputs": [],
   "source": [
    "# drop some data with label=0 to make the training set balanced\n",
    "ratio = 0.2\n",
    "feature_resampled = []\n",
    "y_resampled = []\n",
    "for i in range(y.shape[0]):\n",
    "    if y[i] == 0:\n",
    "        if np.random.random() < ratio:\n",
    "            feature_resampled.append(feature_array[i])\n",
    "            y_resampled.append(y[i])\n",
    "    else:\n",
    "        feature_resampled.append(feature_array[i])\n",
    "        y_resampled.append(y[i])\n",
    "\n",
    "# Convert the lists to NumPy arrays\n",
    "feature_resampled = np.array(feature_resampled)\n",
    "y_resampled = np.array(y_resampled)"
   ]
  },
  {
   "cell_type": "code",
   "execution_count": 11,
   "id": "26fb90ca",
   "metadata": {
    "scrolled": true
   },
   "outputs": [
    {
     "name": "stdout",
     "output_type": "stream",
     "text": [
      "The portion of background data in the resampled training dataset is 0.5703883495145631\n"
     ]
    }
   ],
   "source": [
    "# show the new protion of QCD in training set\n",
    "train_background_resampled = 0\n",
    "for temp in y_resampled:\n",
    "    if temp == 0:\n",
    "        train_background_resampled +=1\n",
    "print(f\"The portion of background data in the resampled training dataset is {train_background_resampled / len(y_resampled)}\"  )"
   ]
  },
  {
   "cell_type": "code",
   "execution_count": 12,
   "id": "a3b18378",
   "metadata": {},
   "outputs": [],
   "source": [
    "# make image\n",
    "X = utils.make_image(feature_resampled)\n",
    "# image is a 4D tensor (n_samples, n_pixels_x, n_pixels_y, n_channels)\n",
    "X_train, y_train = keras_to_torch(X, y_resampled)"
   ]
  },
  {
   "cell_type": "code",
   "execution_count": 13,
   "id": "5a16be8a",
   "metadata": {
    "scrolled": true
   },
   "outputs": [],
   "source": [
    "# load test file\n",
    "feature_array_test, label_array_test, spec_array_test = utils.get_features_labels('root://eospublic.cern.ch//eos/opendata/cms/datascience/HiggsToBBNtupleProducerTool/HiggsToBBNTuple_HiggsToBB_QCD_RunII_13TeV_MC/test/ntuple_merged_0.root', \n",
    "                                                                                  features, \n",
    "                                                                                  spectators, \n",
    "                                                                                  labels, \n",
    "                                                                                  remove_mass_pt_window=False, \n",
    "                                                                                  entry_stop=2500)\n"
   ]
  },
  {
   "cell_type": "code",
   "execution_count": 14,
   "id": "accd1158",
   "metadata": {},
   "outputs": [],
   "source": [
    "# make image\n",
    "X_test = utils.make_image(feature_array_test)\n",
    "X_test, y_test = keras_to_torch(X_test, label_array_test)"
   ]
  },
  {
   "cell_type": "code",
   "execution_count": 15,
   "id": "319ff5b9",
   "metadata": {
    "scrolled": true
   },
   "outputs": [
    {
     "data": {
      "text/plain": [
       "tensor([0, 0, 1,  ..., 0, 0, 0])"
      ]
     },
     "execution_count": 15,
     "metadata": {},
     "output_type": "execute_result"
    }
   ],
   "source": [
    "# convert the one-hot label to one binary column\n",
    "# notice that we did not banlance the test dataset so that it reveals the original dataset\n",
    "y_test = y_test[:,1]\n",
    "y_test"
   ]
  },
  {
   "cell_type": "markdown",
   "id": "cfc8733a",
   "metadata": {},
   "source": [
    "### Model"
   ]
  },
  {
   "cell_type": "code",
   "execution_count": 16,
   "id": "81a9be83",
   "metadata": {},
   "outputs": [],
   "source": [
    "def conv_output_size(input_size, kernel_size, stride, padding):\n",
    "    return (input_size - kernel_size + 2 * padding) // stride + 1"
   ]
  },
  {
   "cell_type": "code",
   "execution_count": 17,
   "id": "c0ad7469",
   "metadata": {},
   "outputs": [],
   "source": [
    "# define the main network\n",
    "class CNNModel(nn.Module):\n",
    "    def __init__(self, input_shape, num_classes):\n",
    "        super(CNNModel, self).__init__()\n",
    "        \n",
    "        print(input_shape)\n",
    "        self.conv1 = nn.Conv2d(input_shape[0], 64, kernel_size=7, stride=2, padding=3)\n",
    "        self.relu1 = nn.ReLU(inplace=True)\n",
    "        self.pool1 = nn.MaxPool2d(kernel_size=3, stride=2, padding=1)\n",
    "        self.lrn1 = nn.LocalResponseNorm(size=5, alpha=0.0001, beta=0.75, k=2)\n",
    "\n",
    "        self.conv2 = nn.Conv2d(64, 64, kernel_size=1)\n",
    "        self.relu2 = nn.ReLU(inplace=True)\n",
    "\n",
    "        self.conv3 = nn.Conv2d(64, 64, kernel_size=3, padding=1)\n",
    "        self.relu3 = nn.ReLU(inplace=True)\n",
    "        self.lrn2 = nn.LocalResponseNorm(size=5, alpha=0.0001, beta=0.75, k=2)\n",
    "        self.pool2 = nn.MaxPool2d(kernel_size=3, stride=2, padding=1)\n",
    "        \n",
    "        # Inception modules\n",
    "        self.inc1 = Inception_Module(64, 'inc1')\n",
    "        self.inc2 = Inception_Module(256, 'inc2')\n",
    "        \n",
    "        self.pool3 = nn.MaxPool2d(kernel_size=3, stride=2, padding=1)\n",
    "        \n",
    "        # More inception modules\n",
    "        self.inc3 = Inception_Module(256, 'inc3')\n",
    "        \n",
    "        self.pool4 = nn.AdaptiveAvgPool2d((1, 1))\n",
    "        self.fc = nn.Linear(256, num_classes)\n",
    "\n",
    "# commented out the relu layers because the paper did not do so\n",
    "    def forward(self, x):\n",
    "        x = self.conv1(x)\n",
    "        #x = self.relu1(x)\n",
    "        x = self.pool1(x)\n",
    "        x = self.lrn1(x)\n",
    "\n",
    "        x = self.conv2(x)\n",
    "        #x = self.relu2(x)\n",
    "\n",
    "        x = self.conv3(x)\n",
    "        #x = self.relu3(x)\n",
    "        x = self.lrn2(x)\n",
    "        x = self.pool2(x)\n",
    "\n",
    "        # Inception modules\n",
    "        x = self.inc1(x)\n",
    "        x = self.inc2(x)\n",
    "\n",
    "        x = self.pool3(x)\n",
    "\n",
    "        # More inception modules\n",
    "        x = self.inc3(x)\n",
    "\n",
    "        x = self.pool4(x)\n",
    "        x = x.view(x.size(0), -1)\n",
    "        x = self.fc(x)\n",
    "        x = F.log_softmax(x, dim=1)\n",
    "\n",
    "        return x"
   ]
  },
  {
   "cell_type": "code",
   "execution_count": 18,
   "id": "a0861f1d",
   "metadata": {},
   "outputs": [],
   "source": [
    "# define sub-networks\n",
    "class Inception_Module(nn.Module):\n",
    "    def __init__(self, in_channels, name):\n",
    "        super(Inception_Module, self).__init__()\n",
    "        \n",
    "        self.conv_a1 = nn.Conv2d(in_channels, 64, kernel_size=1)\n",
    "        nn.init.kaiming_normal_(self.conv_a1.weight, mode='fan_out', nonlinearity='relu')\n",
    "        self.conv_b1 = nn.Conv2d(in_channels, 96, kernel_size=1)\n",
    "        nn.init.kaiming_normal_(self.conv_b1.weight, mode='fan_out', nonlinearity='relu')\n",
    "        self.conv_c1 = nn.Conv2d(in_channels, 16, kernel_size=1)\n",
    "        self.pool_d1 = nn.MaxPool2d(kernel_size=3, stride=1, padding=1)\n",
    "        \n",
    "        self.conv_b2 = nn.Conv2d(96, 128, kernel_size=3, padding=1)\n",
    "        self.conv_c2 = nn.Conv2d(16, 32, kernel_size=5, padding=2)\n",
    "        self.conv_d2 = nn.Conv2d(in_channels, 32, kernel_size=1)\n",
    "\n",
    "    def forward(self, x):\n",
    "        a1 = self.conv_a1(x)\n",
    "        b1 = self.conv_b1(x)\n",
    "        c1 = self.conv_c1(x)\n",
    "        d1 = self.pool_d1(x)\n",
    "        \n",
    "        b2 = self.conv_b2(b1)\n",
    "        c2 = self.conv_c2(c1)\n",
    "        d2 = self.conv_d2(d1)\n",
    "\n",
    "        output = torch.cat((a1, b2, c2, d2), dim=1)\n",
    "        return output"
   ]
  },
  {
   "cell_type": "markdown",
   "id": "cd1285de",
   "metadata": {},
   "source": [
    "### Training Preparation"
   ]
  },
  {
   "cell_type": "code",
   "execution_count": 19,
   "id": "13104b1e",
   "metadata": {},
   "outputs": [],
   "source": [
    "class Trainer:\n",
    "    def __init__(self, model, train_loader, test_loader, device):\n",
    "        self.model = model.to(device)\n",
    "        self.train_loader = train_loader\n",
    "        self.test_loader = test_loader\n",
    "        self.device = device\n",
    "        \n",
    "    # training function\n",
    "    def train(self, epochs, learning_rate):\n",
    "        train_losses = []\n",
    "        criterion = nn.NLLLoss()\n",
    "        optimizer = optim.SGD(self.model.parameters(), lr=learning_rate, momentum=0.9)\n",
    "\n",
    "        for epoch in range(epochs):\n",
    "            running_loss = 0.0\n",
    "            for i, data in enumerate(self.train_loader, 0):\n",
    "                inputs, labels = data\n",
    "                inputs, labels = inputs.to(self.device), labels.to(self.device)\n",
    "\n",
    "                optimizer.zero_grad()\n",
    "                outputs = self.model(inputs)\n",
    "                loss = criterion(outputs, labels)\n",
    "                loss.backward()\n",
    "                optimizer.step()\n",
    "\n",
    "                running_loss += loss.item()\n",
    "            train_losses.append(running_loss / (i + 1))\n",
    "            print(f'Epoch {epoch + 1}, Loss: {running_loss / (i + 1)}')\n",
    "        return train_losses\n",
    "    \n",
    "    # Testing function\n",
    "    def test(self):\n",
    "        correct = 0\n",
    "        total = 0\n",
    "        predicts = []\n",
    "        with torch.no_grad():\n",
    "            for data in self.test_loader:\n",
    "                images, labels = data\n",
    "                images, labels = images.to(self.device), labels.to(self.device)\n",
    "                outputs = self.model(images)\n",
    "                probs = torch.softmax(outputs, dim=1)\n",
    "                # threshold to adjust the sensitivity to label 1\n",
    "                predicted = (probs[:, 1] > 0.5).long()\n",
    "                total += labels.size(0)\n",
    "                correct += (predicted == labels).sum().item()\n",
    "                predicts.append(predicted)\n",
    "        print('Accuracy: %d %%' % (100 * correct / total))\n",
    "        return predicts\n",
    "        \n",
    "    # ROC plotter\n",
    "    def plot_roc_curve(self):\n",
    "        y_true = []\n",
    "        y_scores = []\n",
    "        \n",
    "        self.model.eval()\n",
    "        with torch.no_grad():\n",
    "            for data in self.test_loader:\n",
    "                images, labels = data\n",
    "                images, labels = images.to(self.device), labels.to(self.device)\n",
    "                outputs = self.model(images)\n",
    "                probs = torch.softmax(outputs, dim=1)\n",
    "                \n",
    "                y_true.extend(labels.cpu().numpy())\n",
    "                y_scores.extend(probs[:, 1].cpu().numpy())\n",
    "        \n",
    "        y_true = np.array(y_true)\n",
    "        y_scores = np.array(y_scores)\n",
    "\n",
    "        fpr, tpr, _ = roc_curve(y_true, y_scores)\n",
    "        roc_auc = auc(fpr, tpr)\n",
    "\n",
    "        plt.figure()\n",
    "        plt.plot(fpr, tpr, color='darkorange', lw=2, label='ROC curve (area = %0.2f)' % roc_auc)\n",
    "        plt.plot([0, 1], [0, 1], color='navy', lw=2, linestyle='--')\n",
    "        plt.xlim([0.0, 1.0])\n",
    "        plt.ylim([0.0, 1.05])\n",
    "        plt.xlabel('False Positive Rate')\n",
    "        plt.ylabel('True Positive Rate')\n",
    "        plt.title('Receiver Operating Characteristic')\n",
    "        plt.legend(loc=\"lower right\")\n",
    "        plt.show()\n"
   ]
  },
  {
   "cell_type": "code",
   "execution_count": 16,
   "id": "73d2e0ff",
   "metadata": {},
   "outputs": [],
   "source": [
    "# Define the dataset class\n",
    "class Data(Dataset):\n",
    "    def __init__(self, X, y):\n",
    "        self.X = X\n",
    "        self.y = y\n",
    "\n",
    "    def __len__(self):\n",
    "        return len(self.X)\n",
    "\n",
    "    def __getitem__(self, idx):\n",
    "        return self.X[idx], self.y[idx]"
   ]
  },
  {
   "cell_type": "code",
   "execution_count": 17,
   "id": "39f93c28",
   "metadata": {},
   "outputs": [],
   "source": [
    "# load the data\n",
    "train_dataset = Data(X_train, y_train)\n",
    "test_dataset = Data(X_test, y_test)\n",
    "\n",
    "train_loader = DataLoader(train_dataset, batch_size=32, shuffle=True, num_workers=2)\n",
    "test_loader = DataLoader(test_dataset, batch_size=32, shuffle=False, num_workers=2)\n",
    "\n",
    "input_shape = X_train.shape[1:]\n",
    "num_classes = 2"
   ]
  },
  {
   "cell_type": "code",
   "execution_count": 18,
   "id": "6746f66d",
   "metadata": {},
   "outputs": [
    {
     "data": {
      "text/plain": [
       "device(type='cuda', index=0)"
      ]
     },
     "execution_count": 18,
     "metadata": {},
     "output_type": "execute_result"
    }
   ],
   "source": [
    "# Set device\n",
    "device = torch.device(\"cuda:0\" if torch.cuda.is_available() else \"cpu\")\n",
    "device"
   ]
  },
  {
   "cell_type": "markdown",
   "id": "ec981a85",
   "metadata": {},
   "source": [
    "### Begin Training"
   ]
  },
  {
   "cell_type": "code",
   "execution_count": 23,
   "id": "43f3e3ae",
   "metadata": {
    "scrolled": true
   },
   "outputs": [
    {
     "name": "stdout",
     "output_type": "stream",
     "text": [
      "torch.Size([1, 224, 224])\n"
     ]
    }
   ],
   "source": [
    "# Instantiate the model and trainer\n",
    "model = CNNModel(input_shape, num_classes=num_classes)\n",
    "trainer = Trainer(model, train_loader, test_loader, device)"
   ]
  },
  {
   "cell_type": "code",
   "execution_count": 24,
   "id": "26c685e8",
   "metadata": {
    "scrolled": false
   },
   "outputs": [
    {
     "name": "stderr",
     "output_type": "stream",
     "text": [
      "/opt/conda/lib/python3.9/site-packages/torch/nn/functional.py:718: UserWarning: Named tensors and all their associated APIs are an experimental feature and subject to change. Please do not use them for anything important until they are released as stable. (Triggered internally at  /pytorch/c10/core/TensorImpl.h:1156.)\n",
      "  return torch.max_pool2d(input, kernel_size, stride, padding, dilation, ceil_mode)\n"
     ]
    },
    {
     "name": "stdout",
     "output_type": "stream",
     "text": [
      "Epoch 1, Loss: 0.6863377938109837\n",
      "Epoch 2, Loss: 0.6864830426285776\n",
      "Epoch 3, Loss: 0.6860139239370153\n",
      "Epoch 4, Loss: 0.6850652316313112\n",
      "Epoch 5, Loss: 0.6858935349442986\n",
      "Epoch 6, Loss: 0.6854985955725895\n",
      "Epoch 7, Loss: 0.6855202454529451\n",
      "Epoch 8, Loss: 0.6858755731850528\n",
      "Epoch 9, Loss: 0.6860111995359485\n",
      "Epoch 10, Loss: 0.6857830637626434\n",
      "Epoch 11, Loss: 0.6857759855436475\n",
      "Epoch 12, Loss: 0.6859806615315126\n",
      "Epoch 13, Loss: 0.685598343275906\n",
      "Epoch 14, Loss: 0.6862292165836591\n",
      "Epoch 15, Loss: 0.6855182034915752\n",
      "Epoch 16, Loss: 0.685670750194721\n",
      "Epoch 17, Loss: 0.6856894533285934\n",
      "Epoch 18, Loss: 0.6853136507312904\n",
      "Epoch 19, Loss: 0.6857967668035058\n",
      "Epoch 20, Loss: 0.6852512664339515\n"
     ]
    }
   ],
   "source": [
    "# Train the model\n",
    "train_losses = trainer.train(epochs=20, learning_rate=0.0005)"
   ]
  },
  {
   "cell_type": "markdown",
   "id": "757f1cad",
   "metadata": {},
   "source": [
    "Notice that the loss does not change much every time. So I just let it iterate few epochs"
   ]
  },
  {
   "cell_type": "markdown",
   "id": "9663fcc6",
   "metadata": {},
   "source": [
    "### Evaluation"
   ]
  },
  {
   "cell_type": "code",
   "execution_count": 25,
   "id": "4fcbd7a0",
   "metadata": {
    "scrolled": true
   },
   "outputs": [
    {
     "name": "stdout",
     "output_type": "stream",
     "text": [
      "Accuracy: 86 %\n"
     ]
    },
    {
     "data": {
      "text/plain": [
       "[tensor([0, 0, 0, 0, 0, 0, 0, 0, 0, 0, 0, 0, 0, 0, 0, 0, 0, 0, 0, 0, 0, 0, 0, 0,\n",
       "         0, 0, 0, 0, 0, 0, 0, 0], device='cuda:0'),\n",
       " tensor([0, 0, 0, 0, 0, 0, 0, 0, 0, 0, 0, 0, 0, 0, 0, 0, 0, 0, 0, 0, 0, 0, 0, 0,\n",
       "         0, 0, 0, 0, 0, 0, 0, 0], device='cuda:0'),\n",
       " tensor([0, 0, 0, 0, 0, 0, 0, 0, 0, 0, 0, 0, 0, 0, 0, 0, 0, 0, 0, 0, 0, 0, 0, 0,\n",
       "         0, 0, 0, 0, 0, 0, 0, 0], device='cuda:0'),\n",
       " tensor([0, 0, 0, 0, 0, 0, 0, 0, 0, 0, 0, 0, 0, 0, 0, 0, 0, 0, 0, 0, 0, 0, 0, 0,\n",
       "         0, 0, 0, 0, 0, 0, 0, 0], device='cuda:0'),\n",
       " tensor([0, 0, 0, 0, 0, 0, 0, 0, 0, 0, 0, 0, 0, 0, 0, 0, 0, 0, 0, 0, 0, 0, 0, 0,\n",
       "         0, 0, 0, 0, 0, 0, 0, 0], device='cuda:0'),\n",
       " tensor([0, 0, 0, 0, 0, 0, 0, 0, 0, 0, 0, 0, 0, 0, 0, 0, 0, 0, 0, 0, 0, 0, 0, 0,\n",
       "         0, 0, 0, 0, 0, 0, 0, 0], device='cuda:0'),\n",
       " tensor([0, 0, 0, 0, 0, 0, 0, 0, 0, 0, 0, 0, 0, 0, 0, 0, 0, 0, 0, 0, 0, 0, 0, 0,\n",
       "         0, 0, 0, 0, 0, 0, 0, 0], device='cuda:0'),\n",
       " tensor([0, 0, 0, 0, 0, 0, 0, 0, 0, 0, 0, 0, 0, 0, 0, 0, 0, 0, 0, 0, 0, 0, 0, 0,\n",
       "         0, 0, 0, 0, 0, 0, 0, 0], device='cuda:0'),\n",
       " tensor([0, 0, 0, 0, 0, 0, 0, 0, 0, 0, 0, 0, 0, 0, 0, 0, 0, 0, 0, 0, 0, 0, 0, 0,\n",
       "         0, 0, 0, 0, 0, 0, 0, 0], device='cuda:0'),\n",
       " tensor([0, 0, 0, 0, 0, 0, 0, 0, 0, 0, 0, 0, 0, 0, 0, 0, 0, 0, 0, 0, 0, 0, 0, 0,\n",
       "         0, 0, 0, 0, 0, 0, 0, 0], device='cuda:0'),\n",
       " tensor([0, 0, 0, 0, 0, 0, 0, 0, 0, 0, 0, 0, 0, 0, 0, 0, 0, 0, 0, 0, 0, 0, 0, 0,\n",
       "         0, 0, 0, 0, 0, 0, 0, 0], device='cuda:0'),\n",
       " tensor([0, 0, 0, 0, 0, 0, 0, 0, 0, 0, 0, 0, 0, 0, 0, 0, 0, 0, 0, 0, 0, 0, 0, 0,\n",
       "         0, 0, 0, 0, 0, 0, 0, 0], device='cuda:0'),\n",
       " tensor([0, 0, 0, 0, 0, 0, 0, 0, 0, 0, 0, 0, 0, 0, 0, 0, 0, 0, 0, 0, 0, 0, 0, 0,\n",
       "         0, 0, 0, 0, 0, 0, 0, 0], device='cuda:0'),\n",
       " tensor([0, 0, 0, 0, 0, 0, 0, 0, 0, 0, 0, 0, 0, 0, 0, 0, 0, 0, 0, 0, 0, 0, 0, 0,\n",
       "         0, 0, 0, 0, 0, 0, 0, 0], device='cuda:0'),\n",
       " tensor([0, 0, 0, 0, 0, 0, 0, 0, 0, 0, 0, 0, 0, 0, 0, 0, 0, 0, 0, 0, 0, 0, 0, 0,\n",
       "         0, 0, 0, 0, 0, 0, 0, 0], device='cuda:0'),\n",
       " tensor([0, 0, 0, 0, 0, 0, 0, 0, 0, 0, 0, 0, 0, 0, 0, 0, 0, 0, 0, 0, 0, 0, 0, 0,\n",
       "         0, 0, 0, 0, 0, 0, 0, 0], device='cuda:0'),\n",
       " tensor([0, 0, 0, 0, 0, 0, 0, 0, 0, 0, 0, 0, 0, 0, 0, 0, 0, 0, 0, 0, 0, 0, 0, 0,\n",
       "         0, 0, 0, 0, 0, 0, 0, 0], device='cuda:0'),\n",
       " tensor([0, 0, 0, 0, 0, 0, 0, 0, 0, 0, 0, 0, 0, 0, 0, 0, 0, 0, 0, 0, 0, 0, 0, 0,\n",
       "         0, 0, 0, 0, 0, 0, 0, 0], device='cuda:0'),\n",
       " tensor([0, 0, 0, 0, 0, 0, 0, 0, 0, 0, 0, 0, 0, 0, 0, 0, 0, 0, 0, 0, 0, 0, 0, 0,\n",
       "         0, 0, 0, 0, 0, 0, 0, 0], device='cuda:0'),\n",
       " tensor([0, 0, 0, 0, 0, 0, 0, 0, 0, 0, 0, 0, 0, 0, 0, 0, 0, 0, 0, 0, 0, 0, 0, 0,\n",
       "         0, 0, 0, 0, 0, 0, 0, 0], device='cuda:0'),\n",
       " tensor([0, 0, 0, 0, 0, 0, 0, 0, 0, 0, 0, 0, 0, 0, 0, 0, 0, 0, 0, 0, 0, 0, 0, 0,\n",
       "         0, 0, 0, 0, 0, 0, 0, 0], device='cuda:0'),\n",
       " tensor([0, 0, 0, 0, 0, 0, 0, 0, 0, 0, 0, 0, 0, 0, 0, 0, 0, 0, 0, 0, 0, 0, 0, 0,\n",
       "         0, 0, 0, 0, 0, 0, 0, 0], device='cuda:0'),\n",
       " tensor([0, 0, 0, 0, 0, 0, 0, 0, 0, 0, 0, 0, 0, 0, 0, 0, 0, 0, 0, 0, 0, 0, 0, 0,\n",
       "         0, 0, 0, 0, 0, 0, 0, 0], device='cuda:0'),\n",
       " tensor([0, 0, 0, 0, 0, 0, 0, 0, 0, 0, 0, 0, 0, 0, 0, 0, 0, 0, 0, 0, 0, 0, 0, 0,\n",
       "         0, 0, 0, 0, 0, 0, 0, 0], device='cuda:0'),\n",
       " tensor([0, 0, 0, 0, 0, 0, 0, 0, 0, 0, 0, 0, 0, 0, 0, 0, 0, 0, 0, 0, 0, 0, 0, 0,\n",
       "         0, 0, 0, 0, 0, 0, 0, 0], device='cuda:0'),\n",
       " tensor([0, 0, 0, 0, 0, 0, 0, 0, 0, 0, 0, 0, 0, 0, 0, 0, 0, 0, 0, 0, 0, 0, 0, 0,\n",
       "         0, 0, 0, 0, 0, 0, 0, 0], device='cuda:0'),\n",
       " tensor([0, 0, 0, 0, 0, 0, 0, 0, 0, 0, 0, 0, 0, 0, 0, 0, 0, 0, 0, 0, 0, 0, 0, 0,\n",
       "         0, 0, 0, 0, 0, 0, 0, 0], device='cuda:0'),\n",
       " tensor([0, 0, 0, 0, 0, 0, 0, 0, 0, 0, 0, 0, 0, 0, 0, 0, 0, 0, 0, 0, 0, 0, 0, 0,\n",
       "         0, 0, 0, 0, 0, 0, 0, 0], device='cuda:0'),\n",
       " tensor([0, 0, 0, 0, 0, 0, 0, 0, 0, 0, 0, 0, 0, 0, 0, 0, 0, 0, 0, 0, 0, 0, 0, 0,\n",
       "         0, 0, 0, 0, 0, 0, 0, 0], device='cuda:0'),\n",
       " tensor([0, 0, 0, 0, 0, 0, 0, 0, 0, 0, 0, 0, 0, 0, 0, 0, 0, 0, 0, 0, 0, 0, 0, 0,\n",
       "         0, 0, 0, 0, 0, 0, 0, 0], device='cuda:0'),\n",
       " tensor([0, 0, 0, 0, 0, 0, 0, 0, 0, 0, 0, 0, 0, 0, 0, 0, 0, 0, 0, 0, 0, 0, 0, 0,\n",
       "         0, 0, 0, 0, 0, 0, 0, 0], device='cuda:0'),\n",
       " tensor([0, 0, 0, 0, 0, 0, 0, 0, 0, 0, 0, 0, 0, 0, 0, 0, 0, 0, 0, 0, 0, 0, 0, 0,\n",
       "         0, 0, 0, 0, 0, 0, 0, 0], device='cuda:0'),\n",
       " tensor([0, 0, 0, 0, 0, 0, 0, 0, 0, 0, 0, 0, 0, 0, 0, 0, 0, 0, 0, 0, 0, 0, 0, 0,\n",
       "         0, 0, 0, 0, 0, 0, 0, 0], device='cuda:0'),\n",
       " tensor([0, 0, 0, 0, 0, 0, 0, 0, 0, 0, 0, 0, 0, 0, 0, 0, 0, 0, 0, 0, 0, 0, 0, 0,\n",
       "         0, 0, 0, 0, 0, 0, 0, 0], device='cuda:0'),\n",
       " tensor([0, 0, 0, 0, 0, 0, 0, 0, 0, 0, 0, 0, 0, 0, 0, 0, 0, 0, 0, 0, 0, 0, 0, 0,\n",
       "         0, 0, 0, 0, 0, 0, 0, 0], device='cuda:0'),\n",
       " tensor([0, 0, 0, 0, 0, 0, 0, 0, 0, 0, 0, 0, 0, 0, 0, 0, 0, 0, 0, 0, 0, 0, 0, 0,\n",
       "         0, 0, 0, 0, 0, 0, 0, 0], device='cuda:0'),\n",
       " tensor([0, 0, 0, 0, 0, 0, 0, 0, 0, 0, 0, 0, 0, 0, 0, 0, 0, 0, 0, 0, 0, 0, 0, 0,\n",
       "         0, 0, 0, 0, 0, 0, 0, 0], device='cuda:0'),\n",
       " tensor([0, 0, 0, 0, 0, 0, 0, 0, 0, 0, 0, 0, 0, 0, 0, 0, 0, 0, 0, 0, 0, 0, 0, 0,\n",
       "         0, 0, 0, 0, 0, 0, 0, 0], device='cuda:0'),\n",
       " tensor([0, 0, 0, 0, 0, 0, 0, 0, 0, 0, 0, 0, 0, 0, 0, 0, 0, 0, 0, 0, 0, 0, 0, 0,\n",
       "         0, 0, 0, 0, 0, 0, 0, 0], device='cuda:0'),\n",
       " tensor([0, 0, 0, 0, 0, 0, 0, 0, 0, 0, 0, 0, 0, 0, 0, 0, 0, 0, 0, 0, 0, 0, 0, 0,\n",
       "         0, 0, 0, 0, 0, 0, 0, 0], device='cuda:0'),\n",
       " tensor([0, 0, 0, 0, 0, 0, 0, 0, 0, 0, 0, 0, 0, 0, 0, 0, 0, 0, 0, 0, 0, 0, 0, 0,\n",
       "         0, 0, 0, 0, 0, 0, 0, 0], device='cuda:0'),\n",
       " tensor([0, 0, 0, 0, 0, 0, 0, 0, 0, 0, 0, 0, 0, 0, 0, 0, 0, 0, 0, 0, 0, 0, 0, 0,\n",
       "         0, 0, 0, 0, 0, 0, 0, 0], device='cuda:0'),\n",
       " tensor([0, 0, 0, 0, 0, 0, 0, 0, 0, 0, 0, 0, 0, 0, 0, 0, 0, 0, 0, 0, 0, 0, 0, 0,\n",
       "         0, 0, 0, 0, 0, 0, 0, 0], device='cuda:0'),\n",
       " tensor([0, 0, 0, 0, 0, 0, 0, 0, 0, 0, 0, 0, 0, 0, 0, 0, 0, 0, 0, 0, 0, 0, 0, 0,\n",
       "         0, 0, 0, 0, 0, 0, 0, 0], device='cuda:0'),\n",
       " tensor([0, 0, 0, 0, 0, 0, 0, 0, 0, 0, 0, 0, 0, 0, 0, 0, 0, 0, 0, 0, 0, 0, 0, 0,\n",
       "         0, 0, 0, 0, 0, 0, 0, 0], device='cuda:0'),\n",
       " tensor([0, 0, 0, 0, 0, 0, 0, 0, 0, 0, 0, 0, 0, 0, 0, 0, 0, 0, 0, 0, 0, 0, 0, 0,\n",
       "         0, 0, 0, 0, 0, 0, 0, 0], device='cuda:0'),\n",
       " tensor([0, 0, 0, 0, 0, 0, 0, 0, 0, 0, 0, 0, 0, 0, 0, 0, 0, 0, 0, 0, 0, 0, 0, 0,\n",
       "         0, 0, 0, 0, 0, 0, 0, 0], device='cuda:0'),\n",
       " tensor([0, 0, 0, 0, 0, 0, 0, 0, 0, 0, 0, 0, 0, 0, 0, 0, 0, 0, 0, 0, 0, 0, 0, 0,\n",
       "         0, 0, 0, 0, 0, 0, 0, 0], device='cuda:0'),\n",
       " tensor([0, 0, 0, 0, 0, 0, 0, 0, 0, 0, 0, 0, 0, 0, 0, 0, 0, 0, 0, 0, 0, 0, 0, 0,\n",
       "         0, 0, 0, 0, 0, 0, 0, 0], device='cuda:0'),\n",
       " tensor([0, 0, 0, 0, 0, 0, 0, 0, 0, 0, 0, 0, 0, 0, 0, 0, 0, 0, 0, 0, 0, 0, 0, 0,\n",
       "         0, 0, 0, 0, 0, 0, 0, 0], device='cuda:0'),\n",
       " tensor([0, 0, 0, 0, 0, 0, 0, 0, 0, 0, 0, 0, 0, 0, 0, 0, 0, 0, 0, 0, 0, 0, 0, 0,\n",
       "         0, 0, 0, 0, 0, 0, 0, 0], device='cuda:0'),\n",
       " tensor([0, 0, 0, 0, 0, 0, 0, 0, 0, 0, 0, 0, 0, 0, 0, 0, 0, 0, 0, 0, 0, 0, 0, 0,\n",
       "         0, 0, 0, 0, 0, 0, 0, 0], device='cuda:0'),\n",
       " tensor([0, 0, 0, 0, 0, 0, 0, 0, 0, 0, 0, 0, 0, 0, 0, 0, 0, 0, 0, 0, 0, 0, 0, 0,\n",
       "         0, 0, 0, 0, 0, 0, 0, 0], device='cuda:0'),\n",
       " tensor([0, 0, 0, 0, 0, 0, 0, 0, 0, 0, 0, 0, 0, 0, 0, 0, 0, 0, 0, 0, 0, 0, 0, 0,\n",
       "         0, 0, 0, 0, 0, 0, 0, 0], device='cuda:0'),\n",
       " tensor([0, 0, 0, 0, 0, 0, 0, 0, 0, 0, 0, 0, 0, 0, 0, 0, 0, 0, 0, 0, 0, 0, 0, 0,\n",
       "         0, 0, 0, 0, 0, 0, 0, 0], device='cuda:0'),\n",
       " tensor([0, 0, 0, 0, 0, 0, 0, 0, 0, 0, 0, 0, 0, 0, 0, 0, 0, 0, 0, 0, 0, 0, 0, 0,\n",
       "         0, 0, 0, 0, 0, 0, 0, 0], device='cuda:0'),\n",
       " tensor([0, 0, 0, 0, 0, 0, 0, 0, 0, 0, 0, 0, 0, 0, 0, 0, 0, 0, 0, 0, 0, 0, 0, 0,\n",
       "         0, 0, 0, 0, 0, 0, 0, 0], device='cuda:0'),\n",
       " tensor([0, 0, 0, 0, 0, 0, 0, 0, 0, 0, 0, 0, 0, 0, 0, 0, 0, 0, 0, 0, 0, 0, 0, 0,\n",
       "         0, 0, 0, 0, 0, 0, 0, 0], device='cuda:0'),\n",
       " tensor([0, 0, 0, 0, 0, 0, 0, 0, 0, 0, 0, 0, 0, 0, 0, 0, 0, 0, 0, 0, 0, 0, 0, 0,\n",
       "         0, 0, 0, 0, 0, 0, 0, 0], device='cuda:0'),\n",
       " tensor([0, 0, 0, 0, 0, 0, 0, 0, 0, 0, 0, 0, 0, 0, 0, 0, 0, 0, 0, 0, 0, 0, 0, 0,\n",
       "         0, 0, 0, 0, 0, 0, 0, 0], device='cuda:0'),\n",
       " tensor([0, 0, 0, 0, 0, 0, 0, 0, 0, 0, 0, 0, 0, 0, 0, 0, 0, 0, 0, 0, 0, 0, 0, 0,\n",
       "         0, 0, 0, 0, 0, 0, 0, 0], device='cuda:0'),\n",
       " tensor([0, 0, 0, 0, 0, 0, 0, 0, 0, 0, 0, 0, 0, 0, 0, 0, 0, 0, 0, 0, 0, 0, 0, 0,\n",
       "         0, 0, 0, 0, 0, 0, 0, 0], device='cuda:0'),\n",
       " tensor([0, 0, 0, 0, 0, 0, 0, 0, 0, 0, 0, 0, 0, 0, 0, 0, 0, 0, 0, 0, 0, 0, 0, 0,\n",
       "         0, 0, 0, 0, 0, 0, 0, 0], device='cuda:0'),\n",
       " tensor([0, 0, 0, 0, 0, 0, 0, 0, 0, 0, 0, 0, 0, 0, 0, 0, 0, 0, 0, 0, 0, 0, 0, 0,\n",
       "         0, 0, 0, 0, 0, 0, 0, 0], device='cuda:0'),\n",
       " tensor([0, 0, 0, 0, 0, 0, 0, 0, 0, 0, 0, 0, 0, 0, 0, 0, 0, 0, 0, 0, 0, 0, 0, 0,\n",
       "         0, 0, 0, 0, 0, 0, 0, 0], device='cuda:0'),\n",
       " tensor([0, 0, 0, 0, 0, 0, 0, 0, 0, 0, 0, 0, 0, 0, 0, 0, 0, 0, 0, 0, 0, 0, 0, 0,\n",
       "         0, 0, 0, 0, 0, 0, 0, 0], device='cuda:0'),\n",
       " tensor([0, 0, 0, 0, 0, 0, 0, 0, 0, 0, 0, 0, 0, 0, 0, 0, 0, 0, 0, 0, 0, 0, 0, 0,\n",
       "         0, 0, 0, 0, 0, 0, 0, 0], device='cuda:0'),\n",
       " tensor([0, 0, 0, 0, 0, 0, 0, 0, 0, 0, 0, 0, 0, 0, 0, 0, 0, 0, 0, 0, 0, 0, 0, 0,\n",
       "         0, 0, 0, 0, 0, 0, 0, 0], device='cuda:0'),\n",
       " tensor([0, 0, 0, 0, 0, 0, 0, 0, 0, 0, 0, 0, 0, 0, 0, 0, 0, 0, 0, 0, 0, 0, 0, 0,\n",
       "         0, 0, 0, 0, 0, 0, 0, 0], device='cuda:0'),\n",
       " tensor([0, 0, 0, 0, 0, 0, 0, 0, 0, 0, 0, 0, 0, 0, 0, 0, 0, 0, 0, 0, 0, 0, 0, 0,\n",
       "         0, 0, 0, 0, 0, 0, 0, 0], device='cuda:0'),\n",
       " tensor([0, 0, 0, 0, 0, 0, 0, 0, 0, 0, 0, 0, 0, 0, 0, 0, 0, 0, 0, 0, 0, 0, 0, 0,\n",
       "         0, 0, 0, 0, 0, 0, 0, 0], device='cuda:0'),\n",
       " tensor([0, 0, 0, 0, 0, 0, 0, 0, 0, 0, 0, 0, 0, 0, 0, 0, 0, 0, 0, 0, 0, 0, 0, 0,\n",
       "         0, 0, 0, 0, 0, 0, 0, 0], device='cuda:0'),\n",
       " tensor([0, 0, 0, 0, 0, 0, 0, 0, 0, 0, 0, 0, 0, 0, 0, 0, 0, 0, 0, 0, 0, 0, 0, 0,\n",
       "         0, 0, 0, 0, 0, 0, 0, 0], device='cuda:0'),\n",
       " tensor([0, 0, 0, 0, 0, 0, 0, 0, 0, 0, 0, 0, 0, 0, 0, 0, 0, 0, 0, 0, 0, 0, 0, 0,\n",
       "         0, 0, 0, 0], device='cuda:0')]"
      ]
     },
     "execution_count": 25,
     "metadata": {},
     "output_type": "execute_result"
    }
   ],
   "source": [
    "# test the model\n",
    "predicted_labels = trainer.test()\n",
    "predicted_labels"
   ]
  },
  {
   "cell_type": "markdown",
   "id": "01f231ae",
   "metadata": {},
   "source": [
    "We can see that the model cannot identify the two classes effectively, because it predicts all 0 (or all 1 if we set the threshold in the testing function to be less than 0.5) for every datapoint."
   ]
  },
  {
   "cell_type": "code",
   "execution_count": 26,
   "id": "d61d4c3f",
   "metadata": {},
   "outputs": [
    {
     "data": {
      "image/png": "[encoded data removed]",
      "text/plain": [
       "<Figure size 432x288 with 1 Axes>"
      ]
     },
     "metadata": {
      "needs_background": "light"
     },
     "output_type": "display_data"
    }
   ],
   "source": [
    "# plot the training losses\n",
    "plt.plot(train_losses)\n",
    "plt.title(\"Training Loss\")\n",
    "plt.xlabel('Epoch')\n",
    "plt.ylabel('Loss')\n",
    "plt.show()"
   ]
  },
  {
   "cell_type": "code",
   "execution_count": 27,
   "id": "9db8efdc",
   "metadata": {
    "scrolled": false
   },
   "outputs": [
    {
     "data": {
      "image/png": "[encoded data removed]",
      "text/plain": [
       "<Figure size 432x288 with 1 Axes>"
      ]
     },
     "metadata": {
      "needs_background": "light"
     },
     "output_type": "display_data"
    }
   ],
   "source": [
    "# plot the ROC\n",
    "trainer.plot_roc_curve()"
   ]
  },
  {
   "cell_type": "markdown",
   "id": "d0c061d1",
   "metadata": {},
   "source": [
    "So far we realized that CVN might not be ideal for this classification task, either because we implemented it with bugs (but we've checked for days!) or because this model cannot effectively identify the trivial differences between different images. <br>\n",
    "<br>\n",
    "This reminds me of the fine-grained classification, which is to classify trivial differences between classes. Let's try with a model designed for this task. <br>\n",
    "<br>\n",
    "reference paper: Bilinear CNNs for Fine-grained Visual Recognition https://arxiv.org/abs/1504.07889"
   ]
  },
  {
   "cell_type": "markdown",
   "id": "d24b99c2",
   "metadata": {},
   "source": [
    "## Fine grained classification using Bilinear CNN"
   ]
  },
  {
   "cell_type": "markdown",
   "id": "1b13f150",
   "metadata": {},
   "source": [
    "Data pre-prossesing same as before, so did not write new cells"
   ]
  },
  {
   "cell_type": "markdown",
   "id": "92872765",
   "metadata": {},
   "source": [
    "### Model"
   ]
  },
  {
   "cell_type": "code",
   "execution_count": 21,
   "id": "fcd40d7b",
   "metadata": {},
   "outputs": [],
   "source": [
    "# load the data\n",
    "train_dataset = Data(X_train, y_train)\n",
    "test_dataset = Data(X_test, y_test)\n",
    "\n",
    "train_loader = DataLoader(train_dataset, batch_size=32, shuffle=True, num_workers=2)\n",
    "test_loader = DataLoader(test_dataset, batch_size=32, shuffle=False, num_workers=2)\n",
    "\n",
    "input_shape = X_train.shape[1:]\n",
    "num_classes = 2"
   ]
  },
  {
   "cell_type": "code",
   "execution_count": 22,
   "id": "f1a88389",
   "metadata": {},
   "outputs": [],
   "source": [
    "# split the train dataset into training and validation\n",
    "validation_split = 0.2\n",
    "train_len = int(len(train_dataset) * (1 - validation_split))\n",
    "val_len = len(train_dataset) - train_len\n",
    "\n",
    "train_dataset, val_dataset = random_split(train_dataset, [train_len, val_len])\n",
    "\n",
    "train_loader = DataLoader(train_dataset, batch_size=32, shuffle=True, num_workers=2)\n",
    "val_loader = DataLoader(val_dataset, batch_size=32, shuffle=False, num_workers=2)"
   ]
  },
  {
   "cell_type": "code",
   "execution_count": 23,
   "id": "2458ed88",
   "metadata": {},
   "outputs": [],
   "source": [
    "class BilinearCNN(nn.Module):\n",
    "    def __init__(self, num_classes):\n",
    "        super(BilinearCNN, self).__init__()\n",
    "\n",
    "        vgg16 = models.vgg16_bn(pretrained=False)\n",
    "        features = vgg16.features\n",
    "\n",
    "        self.feature_extractor_1 = features\n",
    "        self.feature_extractor_2 = features\n",
    "\n",
    "        num_features = 512\n",
    "\n",
    "        self.bilinear = nn.Bilinear(num_features, num_features, num_classes)\n",
    "\n",
    "        nn.init.xavier_normal_(self.bilinear.weight)\n",
    "\n",
    "    def forward(self, x):\n",
    "        # match with required input size\n",
    "        x = x.repeat(1, 3, 1, 1)\n",
    "        x1 = self.feature_extractor_1(x)\n",
    "        x2 = self.feature_extractor_2(x)\n",
    "\n",
    "        x1 = nn.AdaptiveAvgPool2d((1, 1))(x1)\n",
    "        x2 = nn.AdaptiveAvgPool2d((1, 1))(x2)\n",
    "\n",
    "        # Flatten\n",
    "        x1 = x1.view(x1.size(0), -1)\n",
    "        x2 = x2.view(x2.size(0), -1)\n",
    "\n",
    "        x = self.bilinear(x1, x2)\n",
    "        return x"
   ]
  },
  {
   "cell_type": "code",
   "execution_count": 24,
   "id": "3e4069e0",
   "metadata": {
    "scrolled": true
   },
   "outputs": [],
   "source": [
    "model = BilinearCNN(num_classes).to(device)"
   ]
  },
  {
   "cell_type": "markdown",
   "id": "00b8b031",
   "metadata": {},
   "source": [
    "### Training"
   ]
  },
  {
   "cell_type": "code",
   "execution_count": 25,
   "id": "263c0bb6",
   "metadata": {},
   "outputs": [],
   "source": [
    "# model setup\n",
    "lr = 0.0001\n",
    "criterion = nn.CrossEntropyLoss()\n",
    "# weight decay to prevent overfitting\n",
    "optimizer = optim.Adam(model.parameters(), lr=lr, weight_decay=1e-5)"
   ]
  },
  {
   "cell_type": "code",
   "execution_count": 26,
   "id": "01c89fc7",
   "metadata": {},
   "outputs": [
    {
     "name": "stderr",
     "output_type": "stream",
     "text": [
      "/opt/conda/lib/python3.9/site-packages/torch/nn/functional.py:718: UserWarning: Named tensors and all their associated APIs are an experimental feature and subject to change. Please do not use them for anything important until they are released as stable. (Triggered internally at  /pytorch/c10/core/TensorImpl.h:1156.)\n",
      "  return torch.max_pool2d(input, kernel_size, stride, padding, dilation, ceil_mode)\n"
     ]
    },
    {
     "name": "stdout",
     "output_type": "stream",
     "text": [
      "Epoch 1/100, Training Loss: 0.8333, Val Loss: 0.5770\n",
      "Epoch 2/100, Training Loss: 0.5266, Val Loss: 2.4775\n",
      "Epoch 3/100, Training Loss: 0.4899, Val Loss: 2.4873\n",
      "Epoch 4/100, Training Loss: 0.4827, Val Loss: 0.5752\n",
      "Epoch 5/100, Training Loss: 0.4739, Val Loss: 1.4217\n",
      "Epoch 6/100, Training Loss: 0.4356, Val Loss: 1.4138\n",
      "Epoch 7/100, Training Loss: 0.4270, Val Loss: 1.2367\n",
      "Epoch 8/100, Training Loss: 0.4204, Val Loss: 1.5688\n",
      "Epoch 9/100, Training Loss: 0.3955, Val Loss: 0.5292\n",
      "Epoch 10/100, Training Loss: 0.3851, Val Loss: 1.5437\n",
      "Epoch 11/100, Training Loss: 0.3819, Val Loss: 0.6695\n",
      "Epoch 12/100, Training Loss: 0.3633, Val Loss: 0.8325\n",
      "Epoch 13/100, Training Loss: 0.3514, Val Loss: 1.6651\n",
      "Epoch 14/100, Training Loss: 0.3314, Val Loss: 0.9435\n",
      "Epoch 15/100, Training Loss: 0.3329, Val Loss: 1.2756\n",
      "Epoch 16/100, Training Loss: 0.3063, Val Loss: 1.8632\n",
      "Epoch 17/100, Training Loss: 0.2971, Val Loss: 1.0105\n",
      "Epoch 18/100, Training Loss: 0.3540, Val Loss: 1.6500\n",
      "Epoch 19/100, Training Loss: 0.2747, Val Loss: 3.2634\n",
      "Early stopping due to no improvement in validation loss.\n",
      "Finished Training.\n"
     ]
    }
   ],
   "source": [
    "num_epochs = 100\n",
    "losses = []\n",
    "val_losses = []\n",
    "best_val_loss = float('inf')\n",
    "patience = 10\n",
    "best_model = None\n",
    "count = 0\n",
    "\n",
    "# training\n",
    "for epoch in range(num_epochs):\n",
    "    model.train()\n",
    "    running_loss = 0.0\n",
    "    for i, (inputs, labels) in enumerate(train_loader):\n",
    "        inputs, labels = inputs.to(device), labels.to(device)\n",
    "\n",
    "        optimizer.zero_grad()\n",
    "\n",
    "        outputs = model(inputs)\n",
    "        loss = criterion(outputs, labels)\n",
    "        loss.backward()\n",
    "        optimizer.step()\n",
    "\n",
    "        running_loss += loss.item()\n",
    "\n",
    "    epoch_loss = running_loss / len(train_loader)\n",
    "    losses.append(epoch_loss)\n",
    "    \n",
    "    # validation with early stopping\n",
    "    model.eval()\n",
    "    running_val_loss = 0.0\n",
    "    with torch.no_grad():\n",
    "        for inputs, labels in val_loader:\n",
    "            inputs, labels = inputs.to(device), labels.to(device)\n",
    "\n",
    "            outputs = model(inputs)\n",
    "            val_loss = criterion(outputs, labels)\n",
    "\n",
    "            running_val_loss += val_loss.item()\n",
    "\n",
    "    epoch_val_loss = running_val_loss / len(val_loader)\n",
    "    val_losses.append(epoch_val_loss)\n",
    "    \n",
    "    print(f\"Epoch {epoch + 1}/{num_epochs}, Training Loss: {epoch_loss:.4f}, Val Loss: {epoch_val_loss:.4f}\")\n",
    "\n",
    "    if epoch_val_loss < best_val_loss:\n",
    "        best_val_loss = epoch_val_loss\n",
    "        best_model = copy.deepcopy(model)\n",
    "        count = 0\n",
    "    else:\n",
    "        count += 1\n",
    "\n",
    "    if count >= patience:\n",
    "        print(\"Early stopping due to no improvement in validation loss.\")\n",
    "        break\n",
    "\n",
    "print(\"Finished Training.\")\n",
    "model = best_model"
   ]
  },
  {
   "cell_type": "code",
   "execution_count": 27,
   "id": "f12884f9",
   "metadata": {},
   "outputs": [
    {
     "data": {
      "image/png": "[encoded data removed]",
      "text/plain": [
       "<Figure size 432x288 with 1 Axes>"
      ]
     },
     "metadata": {
      "needs_background": "light"
     },
     "output_type": "display_data"
    }
   ],
   "source": [
    "# plot the training loss curve\n",
    "plt.figure()\n",
    "plt.plot(losses, label=\"Training Loss\")\n",
    "plt.plot(val_losses, label=\"Validation Loss\")\n",
    "plt.xlabel(\"Epoch\")\n",
    "plt.ylabel(\"Loss\")\n",
    "plt.title(\"Loss Curves\")\n",
    "plt.legend()\n",
    "plt.show()"
   ]
  },
  {
   "cell_type": "markdown",
   "id": "6a34425b",
   "metadata": {},
   "source": [
    "### Evaluation"
   ]
  },
  {
   "cell_type": "code",
   "execution_count": 28,
   "id": "39009eb6",
   "metadata": {},
   "outputs": [
    {
     "name": "stdout",
     "output_type": "stream",
     "text": [
      "Accuracy: 87.39%\n"
     ]
    }
   ],
   "source": [
    "# test the model\n",
    "model.eval()\n",
    "y_test_true = []\n",
    "y_test_pred = []\n",
    "y_test_score = []\n",
    "correct = 0\n",
    "total = 0\n",
    "\n",
    "with torch.no_grad():\n",
    "    for inputs, labels in test_loader:\n",
    "        inputs, labels = inputs.to(device), labels.to(device)\n",
    "\n",
    "        outputs = model(inputs)\n",
    "        _, predicted = torch.max(outputs, 1)\n",
    "        probabilities = F.softmax(outputs, dim=1)\n",
    "\n",
    "        total += labels.size(0)\n",
    "        correct += (predicted == labels).sum().item()\n",
    "\n",
    "        y_test_true.extend(labels.cpu().numpy())\n",
    "        y_test_pred.extend(predicted.cpu().numpy())\n",
    "        y_test_score.extend(probabilities[:, 1].cpu().numpy())\n",
    "\n",
    "accuracy = correct / total\n",
    "print(\"Accuracy: {:.2f}%\".format(100 * accuracy))"
   ]
  },
  {
   "cell_type": "code",
   "execution_count": 29,
   "id": "e1663194",
   "metadata": {},
   "outputs": [
    {
     "data": {
      "image/png": "[encoded data removed]",
      "text/plain": [
       "<Figure size 432x288 with 1 Axes>"
      ]
     },
     "metadata": {
      "needs_background": "light"
     },
     "output_type": "display_data"
    }
   ],
   "source": [
    "# Plot ROC curve\n",
    "fpr, tpr, _ = roc_curve(y_test_true, y_test_score)\n",
    "roc_auc = auc(fpr, tpr)\n",
    "\n",
    "plt.figure()\n",
    "plt.plot(fpr, tpr, color='darkorange', lw=2, label='ROC curve (area = %0.2f)' % roc_auc)\n",
    "plt.plot([0, 1], [0, 1], color='navy', lw=2, linestyle='--')\n",
    "plt.xlim([0.0, 1.0])\n",
    "plt.ylim([0.0, 1.05])\n",
    "plt.xlabel('False Positive Rate')\n",
    "plt.ylabel('True Positive Rate')\n",
    "plt.title('ROC Curve')\n",
    "plt.legend(loc=\"lower right\")\n",
    "plt.show()"
   ]
  }
 ],
 "metadata": {
  "kernelspec": {
   "display_name": "Python 3 (ipykernel)",
   "language": "python",
   "name": "python3"
  },
  "language_info": {
   "codemirror_mode": {
    "name": "ipython",
    "version": 3
   },
   "file_extension": ".py",
   "mimetype": "text/x-python",
   "name": "python",
   "nbconvert_exporter": "python",
   "pygments_lexer": "ipython3",
   "version": "3.9.5"
  }
 },
 "nbformat": 4,
 "nbformat_minor": 5
}

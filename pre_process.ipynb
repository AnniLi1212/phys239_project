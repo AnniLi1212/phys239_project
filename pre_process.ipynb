{
 "cells": [
  {
   "cell_type": "code",
   "execution_count": 11,
   "id": "7ece7134",
   "metadata": {},
   "outputs": [],
   "source": [
    "import uproot \n",
    "import numpy as np \n",
    "import pandas as pd "
   ]
  },
  {
   "cell_type": "code",
   "execution_count": 33,
   "id": "fad721a3",
   "metadata": {},
   "outputs": [],
   "source": [
    "tree = uproot.open(\"practice_test_5k.root:image2d_data_tree\")"
   ]
  },
  {
   "cell_type": "code",
   "execution_count": 49,
   "id": "c11681d6",
   "metadata": {},
   "outputs": [],
   "source": [
    "file = uproot.open(\"practice_test_5k.root\")"
   ]
  },
  {
   "cell_type": "code",
   "execution_count": 63,
   "id": "fd1bdc47",
   "metadata": {
    "scrolled": false
   },
   "outputs": [
    {
     "data": {
      "text/plain": [
       "{'@fUniqueID': 0,\n",
       " '@fBits': 50331656,\n",
       " 'fName': 'image2d_data_tree',\n",
       " 'fTitle': 'data tree',\n",
       " 'fLineColor': 602,\n",
       " 'fLineStyle': 1,\n",
       " 'fLineWidth': 1,\n",
       " 'fFillColor': 0,\n",
       " 'fFillStyle': 1001,\n",
       " 'fMarkerColor': 1,\n",
       " 'fMarkerStyle': 1,\n",
       " 'fMarkerSize': 1.0,\n",
       " 'fEntries': 5000,\n",
       " 'fTotBytes': 4252671250,\n",
       " 'fZipBytes': 43442091,\n",
       " 'fSavedBytes': 0,\n",
       " 'fFlushedBytes': 0,\n",
       " 'fWeight': 1.0,\n",
       " 'fTimerInterval': 0,\n",
       " 'fScanField': 25,\n",
       " 'fUpdate': 0,\n",
       " 'fDefaultEntryOffsetLen': 1000,\n",
       " 'fNClusterRange': 0,\n",
       " 'fMaxEntries': 1000000000000,\n",
       " 'fMaxEntryLoop': 1000000000000,\n",
       " 'fMaxVirtualSize': 0,\n",
       " 'fAutoSave': -300000000,\n",
       " 'fAutoFlush': -30000000,\n",
       " 'fEstimate': 1000000,\n",
       " 'fClusterRangeEnd': array([], dtype=int64),\n",
       " 'fClusterSize': array([], dtype=int64),\n",
       " 'fBranches': <TObjArray of 1 items at 0x7f19a9c95910>,\n",
       " 'fLeaves': <TObjArray of 17 items at 0x7f19a9c95a90>,\n",
       " 'fAliases': None}"
      ]
     },
     "execution_count": 63,
     "metadata": {},
     "output_type": "execute_result"
    }
   ],
   "source": [
    "tree.all_members"
   ]
  },
  {
   "cell_type": "code",
   "execution_count": 64,
   "id": "7d57fdbb",
   "metadata": {},
   "outputs": [
    {
     "data": {
      "text/plain": [
       "[<TBranchElement 'image2d_data_branch' (2 subbranches) at 0x7f19a9c95a30>,\n",
       " <TBranchElement 'larcv::EventBase' (4 subbranches) at 0x7f19a9c95e50>,\n",
       " <TBranchElement '_producer' at 0x7f19a9c9e2b0>,\n",
       " <TBranchElement '_run' at 0x7f19a9c9ebb0>,\n",
       " <TBranchElement '_subrun' at 0x7f19a9ca4520>,\n",
       " <TBranchElement '_event' at 0x7f19a9ca4dc0>,\n",
       " <TBranchElement '_image_v' (11 subbranches) at 0x7f19a9cac9d0>,\n",
       " <TBranchElement '_image_v._img' at 0x7f19a9cacd90>,\n",
       " <TBranchElement '_image_v._id' at 0x7f19a9caf910>,\n",
       " <TBranchElement '_image_v._meta._id' at 0x7f19a9cb4220>,\n",
       " <TBranchElement '_image_v._meta._p1.x' at 0x7f19a9cb4af0>,\n",
       " <TBranchElement '_image_v._meta._p1.y' at 0x7f19a9cbb400>,\n",
       " <TBranchElement '_image_v._meta._p2.x' at 0x7f19a9cbbcd0>,\n",
       " <TBranchElement '_image_v._meta._p2.y' at 0x7f19a9cc25e0>,\n",
       " <TBranchElement '_image_v._meta._image_id' at 0x7f19a9cc2eb0>,\n",
       " <TBranchElement '_image_v._meta._col_count' at 0x7f19a9cc77c0>,\n",
       " <TBranchElement '_image_v._meta._row_count' at 0x7f19a9c4e0d0>,\n",
       " <TBranchElement '_image_v._meta._unit' at 0x7f19a9c4e9a0>]"
      ]
     },
     "execution_count": 64,
     "metadata": {},
     "output_type": "execute_result"
    }
   ],
   "source": [
    "tree.values()"
   ]
  },
  {
   "cell_type": "code",
   "execution_count": 68,
   "id": "ee876902",
   "metadata": {},
   "outputs": [
    {
     "data": {
      "text/plain": [
       "[]"
      ]
     },
     "execution_count": 68,
     "metadata": {},
     "output_type": "execute_result"
    }
   ],
   "source": [
    "tree['image2d_data_branch/_image_v/_image_v._meta._id'].values()"
   ]
  },
  {
   "cell_type": "code",
   "execution_count": 28,
   "id": "493e13ba",
   "metadata": {},
   "outputs": [
    {
     "ename": "TypeError",
     "evalue": "TBranch() takes no arguments",
     "output_type": "error",
     "traceback": [
      "\u001b[0;31m---------------------------------------------------------------------------\u001b[0m",
      "\u001b[0;31mTypeError\u001b[0m                                 Traceback (most recent call last)",
      "\u001b[0;32m/tmp/ipykernel_1937/722126134.py\u001b[0m in \u001b[0;36m<module>\u001b[0;34m\u001b[0m\n\u001b[1;32m      1\u001b[0m \u001b[0muproot\u001b[0m\u001b[0;34m.\u001b[0m\u001b[0mopen\u001b[0m\u001b[0;34m(\u001b[0m\u001b[0;34m'practice_test_5k.root'\u001b[0m\u001b[0;34m)\u001b[0m\u001b[0;34m\u001b[0m\u001b[0;34m\u001b[0m\u001b[0m\n\u001b[1;32m      2\u001b[0m \u001b[0;31m# Create TChain, count # of entries\u001b[0m\u001b[0;34m\u001b[0m\u001b[0;34m\u001b[0m\u001b[0;34m\u001b[0m\u001b[0m\n\u001b[0;32m----> 3\u001b[0;31m \u001b[0mchain_image2d\u001b[0m \u001b[0;34m=\u001b[0m \u001b[0muproot\u001b[0m\u001b[0;34m.\u001b[0m\u001b[0mTBranch\u001b[0m\u001b[0;34m(\u001b[0m\u001b[0;34m'image2d_data_tree'\u001b[0m\u001b[0;34m)\u001b[0m\u001b[0;34m\u001b[0m\u001b[0;34m\u001b[0m\u001b[0m\n\u001b[0m\u001b[1;32m      4\u001b[0m \u001b[0mchain_image2d\u001b[0m\u001b[0;34m.\u001b[0m\u001b[0mAddFile\u001b[0m\u001b[0;34m(\u001b[0m\u001b[0;34m'practice_test_5k.root'\u001b[0m\u001b[0;34m)\u001b[0m\u001b[0;34m\u001b[0m\u001b[0;34m\u001b[0m\u001b[0m\n\u001b[1;32m      5\u001b[0m \u001b[0mprint\u001b[0m\u001b[0;34m(\u001b[0m\u001b[0mchain_image2d\u001b[0m\u001b[0;34m.\u001b[0m\u001b[0mGetEntries\u001b[0m\u001b[0;34m(\u001b[0m\u001b[0;34m)\u001b[0m\u001b[0;34m,\u001b[0m\u001b[0;34m'entries found!'\u001b[0m\u001b[0;34m)\u001b[0m\u001b[0;34m\u001b[0m\u001b[0;34m\u001b[0m\u001b[0m\n",
      "\u001b[0;31mTypeError\u001b[0m: TBranch() takes no arguments"
     ]
    }
   ],
   "source": [
    "matrix = \n",
    "num_channels = \n",
    "\n",
    "\n",
    "dimension_1 = matrix.shape(0)\n",
    "dimension_2 = matrix.shape(1)\n",
    "\n",
    "\n",
    "max_val = max(max(matrix))\n",
    "\n",
    "min_val = min(min(matrix))\n",
    "\n",
    "channel_array = (min_val, max_val, num_channels)\n"
   ]
  },
  {
   "cell_type": "code",
   "execution_count": null,
   "id": "e63a4d62",
   "metadata": {},
   "outputs": [],
   "source": []
  }
 ],
 "metadata": {
  "kernelspec": {
   "display_name": "Python 3 (ipykernel)",
   "language": "python",
   "name": "python3"
  },
  "language_info": {
   "codemirror_mode": {
    "name": "ipython",
    "version": 3
   },
   "file_extension": ".py",
   "mimetype": "text/x-python",
   "name": "python",
   "nbconvert_exporter": "python",
   "pygments_lexer": "ipython3",
   "version": "3.9.5"
  }
 },
 "nbformat": 4,
 "nbformat_minor": 5
}
